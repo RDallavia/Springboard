{
  "nbformat": 4,
  "nbformat_minor": 0,
  "metadata": {
    "colab": {
      "provenance": [],
      "machine_shape": "hm"
    },
    "kernelspec": {
      "name": "python3",
      "display_name": "Python 3"
    },
    "language_info": {
      "name": "python"
    },
    "accelerator": "GPU",
    "gpuClass": "premium",
    "widgets": {
      "application/vnd.jupyter.widget-state+json": {
        "ee0fe9ae77af4a788804524bd2b7e488": {
          "model_module": "@jupyter-widgets/controls",
          "model_name": "HBoxModel",
          "model_module_version": "1.5.0",
          "state": {
            "_dom_classes": [],
            "_model_module": "@jupyter-widgets/controls",
            "_model_module_version": "1.5.0",
            "_model_name": "HBoxModel",
            "_view_count": null,
            "_view_module": "@jupyter-widgets/controls",
            "_view_module_version": "1.5.0",
            "_view_name": "HBoxView",
            "box_style": "",
            "children": [
              "IPY_MODEL_1b08f4003f104baebc46cd97f803f835",
              "IPY_MODEL_49b7eecf3d0e4fed833776142c4effd8",
              "IPY_MODEL_717fce3dcbca401a92325f09073e2950"
            ],
            "layout": "IPY_MODEL_748c9cb099d34c0e804366d83cca080c"
          }
        },
        "1b08f4003f104baebc46cd97f803f835": {
          "model_module": "@jupyter-widgets/controls",
          "model_name": "HTMLModel",
          "model_module_version": "1.5.0",
          "state": {
            "_dom_classes": [],
            "_model_module": "@jupyter-widgets/controls",
            "_model_module_version": "1.5.0",
            "_model_name": "HTMLModel",
            "_view_count": null,
            "_view_module": "@jupyter-widgets/controls",
            "_view_module_version": "1.5.0",
            "_view_name": "HTMLView",
            "description": "",
            "description_tooltip": null,
            "layout": "IPY_MODEL_ead5e4f181e74e3dbbead3bd27c10f65",
            "placeholder": "​",
            "style": "IPY_MODEL_c99831f49ae34ab4a480fe0d0ceb70ee",
            "value": "Processing: 100%"
          }
        },
        "49b7eecf3d0e4fed833776142c4effd8": {
          "model_module": "@jupyter-widgets/controls",
          "model_name": "FloatProgressModel",
          "model_module_version": "1.5.0",
          "state": {
            "_dom_classes": [],
            "_model_module": "@jupyter-widgets/controls",
            "_model_module_version": "1.5.0",
            "_model_name": "FloatProgressModel",
            "_view_count": null,
            "_view_module": "@jupyter-widgets/controls",
            "_view_module_version": "1.5.0",
            "_view_name": "ProgressView",
            "bar_style": "",
            "description": "",
            "description_tooltip": null,
            "layout": "IPY_MODEL_3f8cfe2dd6ca40b69b3b8f2641a77bf5",
            "max": 61,
            "min": 0,
            "orientation": "horizontal",
            "style": "IPY_MODEL_1b09acb7f26a4848bd3ee35d3f5b1549",
            "value": 61
          }
        },
        "717fce3dcbca401a92325f09073e2950": {
          "model_module": "@jupyter-widgets/controls",
          "model_name": "HTMLModel",
          "model_module_version": "1.5.0",
          "state": {
            "_dom_classes": [],
            "_model_module": "@jupyter-widgets/controls",
            "_model_module_version": "1.5.0",
            "_model_name": "HTMLModel",
            "_view_count": null,
            "_view_module": "@jupyter-widgets/controls",
            "_view_module_version": "1.5.0",
            "_view_name": "HTMLView",
            "description": "",
            "description_tooltip": null,
            "layout": "IPY_MODEL_fc98abedf506404ba204ae55f2a32b3c",
            "placeholder": "​",
            "style": "IPY_MODEL_ccd7fdf0e3f54f079174e00ec2627b19",
            "value": " 61/61 [6:09:26&lt;00:00, 75.33s/it]"
          }
        },
        "748c9cb099d34c0e804366d83cca080c": {
          "model_module": "@jupyter-widgets/base",
          "model_name": "LayoutModel",
          "model_module_version": "1.2.0",
          "state": {
            "_model_module": "@jupyter-widgets/base",
            "_model_module_version": "1.2.0",
            "_model_name": "LayoutModel",
            "_view_count": null,
            "_view_module": "@jupyter-widgets/base",
            "_view_module_version": "1.2.0",
            "_view_name": "LayoutView",
            "align_content": null,
            "align_items": null,
            "align_self": null,
            "border": null,
            "bottom": null,
            "display": null,
            "flex": null,
            "flex_flow": null,
            "grid_area": null,
            "grid_auto_columns": null,
            "grid_auto_flow": null,
            "grid_auto_rows": null,
            "grid_column": null,
            "grid_gap": null,
            "grid_row": null,
            "grid_template_areas": null,
            "grid_template_columns": null,
            "grid_template_rows": null,
            "height": null,
            "justify_content": null,
            "justify_items": null,
            "left": null,
            "margin": null,
            "max_height": null,
            "max_width": null,
            "min_height": null,
            "min_width": null,
            "object_fit": null,
            "object_position": null,
            "order": null,
            "overflow": null,
            "overflow_x": null,
            "overflow_y": null,
            "padding": null,
            "right": null,
            "top": null,
            "visibility": "hidden",
            "width": null
          }
        },
        "ead5e4f181e74e3dbbead3bd27c10f65": {
          "model_module": "@jupyter-widgets/base",
          "model_name": "LayoutModel",
          "model_module_version": "1.2.0",
          "state": {
            "_model_module": "@jupyter-widgets/base",
            "_model_module_version": "1.2.0",
            "_model_name": "LayoutModel",
            "_view_count": null,
            "_view_module": "@jupyter-widgets/base",
            "_view_module_version": "1.2.0",
            "_view_name": "LayoutView",
            "align_content": null,
            "align_items": null,
            "align_self": null,
            "border": null,
            "bottom": null,
            "display": null,
            "flex": null,
            "flex_flow": null,
            "grid_area": null,
            "grid_auto_columns": null,
            "grid_auto_flow": null,
            "grid_auto_rows": null,
            "grid_column": null,
            "grid_gap": null,
            "grid_row": null,
            "grid_template_areas": null,
            "grid_template_columns": null,
            "grid_template_rows": null,
            "height": null,
            "justify_content": null,
            "justify_items": null,
            "left": null,
            "margin": null,
            "max_height": null,
            "max_width": null,
            "min_height": null,
            "min_width": null,
            "object_fit": null,
            "object_position": null,
            "order": null,
            "overflow": null,
            "overflow_x": null,
            "overflow_y": null,
            "padding": null,
            "right": null,
            "top": null,
            "visibility": null,
            "width": null
          }
        },
        "c99831f49ae34ab4a480fe0d0ceb70ee": {
          "model_module": "@jupyter-widgets/controls",
          "model_name": "DescriptionStyleModel",
          "model_module_version": "1.5.0",
          "state": {
            "_model_module": "@jupyter-widgets/controls",
            "_model_module_version": "1.5.0",
            "_model_name": "DescriptionStyleModel",
            "_view_count": null,
            "_view_module": "@jupyter-widgets/base",
            "_view_module_version": "1.2.0",
            "_view_name": "StyleView",
            "description_width": ""
          }
        },
        "3f8cfe2dd6ca40b69b3b8f2641a77bf5": {
          "model_module": "@jupyter-widgets/base",
          "model_name": "LayoutModel",
          "model_module_version": "1.2.0",
          "state": {
            "_model_module": "@jupyter-widgets/base",
            "_model_module_version": "1.2.0",
            "_model_name": "LayoutModel",
            "_view_count": null,
            "_view_module": "@jupyter-widgets/base",
            "_view_module_version": "1.2.0",
            "_view_name": "LayoutView",
            "align_content": null,
            "align_items": null,
            "align_self": null,
            "border": null,
            "bottom": null,
            "display": null,
            "flex": null,
            "flex_flow": null,
            "grid_area": null,
            "grid_auto_columns": null,
            "grid_auto_flow": null,
            "grid_auto_rows": null,
            "grid_column": null,
            "grid_gap": null,
            "grid_row": null,
            "grid_template_areas": null,
            "grid_template_columns": null,
            "grid_template_rows": null,
            "height": null,
            "justify_content": null,
            "justify_items": null,
            "left": null,
            "margin": null,
            "max_height": null,
            "max_width": null,
            "min_height": null,
            "min_width": null,
            "object_fit": null,
            "object_position": null,
            "order": null,
            "overflow": null,
            "overflow_x": null,
            "overflow_y": null,
            "padding": null,
            "right": null,
            "top": null,
            "visibility": null,
            "width": null
          }
        },
        "1b09acb7f26a4848bd3ee35d3f5b1549": {
          "model_module": "@jupyter-widgets/controls",
          "model_name": "ProgressStyleModel",
          "model_module_version": "1.5.0",
          "state": {
            "_model_module": "@jupyter-widgets/controls",
            "_model_module_version": "1.5.0",
            "_model_name": "ProgressStyleModel",
            "_view_count": null,
            "_view_module": "@jupyter-widgets/base",
            "_view_module_version": "1.2.0",
            "_view_name": "StyleView",
            "bar_color": null,
            "description_width": ""
          }
        },
        "fc98abedf506404ba204ae55f2a32b3c": {
          "model_module": "@jupyter-widgets/base",
          "model_name": "LayoutModel",
          "model_module_version": "1.2.0",
          "state": {
            "_model_module": "@jupyter-widgets/base",
            "_model_module_version": "1.2.0",
            "_model_name": "LayoutModel",
            "_view_count": null,
            "_view_module": "@jupyter-widgets/base",
            "_view_module_version": "1.2.0",
            "_view_name": "LayoutView",
            "align_content": null,
            "align_items": null,
            "align_self": null,
            "border": null,
            "bottom": null,
            "display": null,
            "flex": null,
            "flex_flow": null,
            "grid_area": null,
            "grid_auto_columns": null,
            "grid_auto_flow": null,
            "grid_auto_rows": null,
            "grid_column": null,
            "grid_gap": null,
            "grid_row": null,
            "grid_template_areas": null,
            "grid_template_columns": null,
            "grid_template_rows": null,
            "height": null,
            "justify_content": null,
            "justify_items": null,
            "left": null,
            "margin": null,
            "max_height": null,
            "max_width": null,
            "min_height": null,
            "min_width": null,
            "object_fit": null,
            "object_position": null,
            "order": null,
            "overflow": null,
            "overflow_x": null,
            "overflow_y": null,
            "padding": null,
            "right": null,
            "top": null,
            "visibility": null,
            "width": null
          }
        },
        "ccd7fdf0e3f54f079174e00ec2627b19": {
          "model_module": "@jupyter-widgets/controls",
          "model_name": "DescriptionStyleModel",
          "model_module_version": "1.5.0",
          "state": {
            "_model_module": "@jupyter-widgets/controls",
            "_model_module_version": "1.5.0",
            "_model_name": "DescriptionStyleModel",
            "_view_count": null,
            "_view_module": "@jupyter-widgets/base",
            "_view_module_version": "1.2.0",
            "_view_name": "StyleView",
            "description_width": ""
          }
        },
        "876df7a34e36476c8a54f99cb3e368b0": {
          "model_module": "@jupyter-widgets/controls",
          "model_name": "VBoxModel",
          "model_module_version": "1.5.0",
          "state": {
            "_dom_classes": [
              "widget-interact"
            ],
            "_model_module": "@jupyter-widgets/controls",
            "_model_module_version": "1.5.0",
            "_model_name": "VBoxModel",
            "_view_count": null,
            "_view_module": "@jupyter-widgets/controls",
            "_view_module_version": "1.5.0",
            "_view_name": "VBoxView",
            "box_style": "",
            "children": [
              "IPY_MODEL_7d6dc07f565b4372948419948ffee13c",
              "IPY_MODEL_a1c74ae98c944f5e8aa6bdad2ea7ed04"
            ],
            "layout": "IPY_MODEL_8b96f3c8cb0b4e81a6417694f9c2b49b"
          }
        },
        "7d6dc07f565b4372948419948ffee13c": {
          "model_module": "@jupyter-widgets/controls",
          "model_name": "ToggleButtonsModel",
          "model_module_version": "1.5.0",
          "state": {
            "_dom_classes": [],
            "_model_module": "@jupyter-widgets/controls",
            "_model_module_version": "1.5.0",
            "_model_name": "ToggleButtonsModel",
            "_options_labels": [
              "Pipeline Plot",
              "Hyperparameters",
              "AUC",
              "Confusion Matrix",
              "Threshold",
              "Precision Recall",
              "Prediction Error",
              "Class Report",
              "Feature Selection",
              "Learning Curve",
              "Manifold Learning",
              "Calibration Curve",
              "Validation Curve",
              "Dimensions",
              "Feature Importance",
              "Feature Importance (All)",
              "Decision Boundary",
              "Lift Chart",
              "Gain Chart",
              "Decision Tree",
              "KS Statistic Plot"
            ],
            "_view_count": null,
            "_view_module": "@jupyter-widgets/controls",
            "_view_module_version": "1.5.0",
            "_view_name": "ToggleButtonsView",
            "button_style": "",
            "description": "Plot Type:",
            "description_tooltip": null,
            "disabled": false,
            "icons": [
              ""
            ],
            "index": 8,
            "layout": "IPY_MODEL_19b8d0a26a4e4201b218c4b06ce46bb5",
            "style": "IPY_MODEL_b8779a38c1d14fd2b28832ce3bca1fb9",
            "tooltips": []
          }
        },
        "a1c74ae98c944f5e8aa6bdad2ea7ed04": {
          "model_module": "@jupyter-widgets/output",
          "model_name": "OutputModel",
          "model_module_version": "1.0.0",
          "state": {
            "_dom_classes": [],
            "_model_module": "@jupyter-widgets/output",
            "_model_module_version": "1.0.0",
            "_model_name": "OutputModel",
            "_view_count": null,
            "_view_module": "@jupyter-widgets/output",
            "_view_module_version": "1.0.0",
            "_view_name": "OutputView",
            "layout": "IPY_MODEL_d6059dccbfcf4688a28ffebf7c454e1d",
            "msg_id": "697f390b-b54a-49b5-db62-3bfa5fbc5682",
            "outputs": [
              {
                "output_type": "display_data",
                "data": {
                  "text/plain": "<Figure size 432x288 with 1 Axes>",
                  "image/png": "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\n"
                },
                "metadata": {
                  "needs_background": "light"
                }
              }
            ]
          }
        },
        "8b96f3c8cb0b4e81a6417694f9c2b49b": {
          "model_module": "@jupyter-widgets/base",
          "model_name": "LayoutModel",
          "model_module_version": "1.2.0",
          "state": {
            "_model_module": "@jupyter-widgets/base",
            "_model_module_version": "1.2.0",
            "_model_name": "LayoutModel",
            "_view_count": null,
            "_view_module": "@jupyter-widgets/base",
            "_view_module_version": "1.2.0",
            "_view_name": "LayoutView",
            "align_content": null,
            "align_items": null,
            "align_self": null,
            "border": null,
            "bottom": null,
            "display": null,
            "flex": null,
            "flex_flow": null,
            "grid_area": null,
            "grid_auto_columns": null,
            "grid_auto_flow": null,
            "grid_auto_rows": null,
            "grid_column": null,
            "grid_gap": null,
            "grid_row": null,
            "grid_template_areas": null,
            "grid_template_columns": null,
            "grid_template_rows": null,
            "height": null,
            "justify_content": null,
            "justify_items": null,
            "left": null,
            "margin": null,
            "max_height": null,
            "max_width": null,
            "min_height": null,
            "min_width": null,
            "object_fit": null,
            "object_position": null,
            "order": null,
            "overflow": null,
            "overflow_x": null,
            "overflow_y": null,
            "padding": null,
            "right": null,
            "top": null,
            "visibility": null,
            "width": null
          }
        },
        "19b8d0a26a4e4201b218c4b06ce46bb5": {
          "model_module": "@jupyter-widgets/base",
          "model_name": "LayoutModel",
          "model_module_version": "1.2.0",
          "state": {
            "_model_module": "@jupyter-widgets/base",
            "_model_module_version": "1.2.0",
            "_model_name": "LayoutModel",
            "_view_count": null,
            "_view_module": "@jupyter-widgets/base",
            "_view_module_version": "1.2.0",
            "_view_name": "LayoutView",
            "align_content": null,
            "align_items": null,
            "align_self": null,
            "border": null,
            "bottom": null,
            "display": null,
            "flex": null,
            "flex_flow": null,
            "grid_area": null,
            "grid_auto_columns": null,
            "grid_auto_flow": null,
            "grid_auto_rows": null,
            "grid_column": null,
            "grid_gap": null,
            "grid_row": null,
            "grid_template_areas": null,
            "grid_template_columns": null,
            "grid_template_rows": null,
            "height": null,
            "justify_content": null,
            "justify_items": null,
            "left": null,
            "margin": null,
            "max_height": null,
            "max_width": null,
            "min_height": null,
            "min_width": null,
            "object_fit": null,
            "object_position": null,
            "order": null,
            "overflow": null,
            "overflow_x": null,
            "overflow_y": null,
            "padding": null,
            "right": null,
            "top": null,
            "visibility": null,
            "width": null
          }
        },
        "b8779a38c1d14fd2b28832ce3bca1fb9": {
          "model_module": "@jupyter-widgets/controls",
          "model_name": "ToggleButtonsStyleModel",
          "model_module_version": "1.5.0",
          "state": {
            "_model_module": "@jupyter-widgets/controls",
            "_model_module_version": "1.5.0",
            "_model_name": "ToggleButtonsStyleModel",
            "_view_count": null,
            "_view_module": "@jupyter-widgets/base",
            "_view_module_version": "1.2.0",
            "_view_name": "StyleView",
            "button_width": "",
            "description_width": "",
            "font_weight": ""
          }
        },
        "d6059dccbfcf4688a28ffebf7c454e1d": {
          "model_module": "@jupyter-widgets/base",
          "model_name": "LayoutModel",
          "model_module_version": "1.2.0",
          "state": {
            "_model_module": "@jupyter-widgets/base",
            "_model_module_version": "1.2.0",
            "_model_name": "LayoutModel",
            "_view_count": null,
            "_view_module": "@jupyter-widgets/base",
            "_view_module_version": "1.2.0",
            "_view_name": "LayoutView",
            "align_content": null,
            "align_items": null,
            "align_self": null,
            "border": null,
            "bottom": null,
            "display": null,
            "flex": null,
            "flex_flow": null,
            "grid_area": null,
            "grid_auto_columns": null,
            "grid_auto_flow": null,
            "grid_auto_rows": null,
            "grid_column": null,
            "grid_gap": null,
            "grid_row": null,
            "grid_template_areas": null,
            "grid_template_columns": null,
            "grid_template_rows": null,
            "height": null,
            "justify_content": null,
            "justify_items": null,
            "left": null,
            "margin": null,
            "max_height": null,
            "max_width": null,
            "min_height": null,
            "min_width": null,
            "object_fit": null,
            "object_position": null,
            "order": null,
            "overflow": null,
            "overflow_x": null,
            "overflow_y": null,
            "padding": null,
            "right": null,
            "top": null,
            "visibility": null,
            "width": null
          }
        }
      }
    }
  },
  "cells": [
    {
      "cell_type": "markdown",
      "source": [
        "# About\n",
        "\n",
        "The objective of this model is to predict the probability that a customer does not pay back their credit card balance amount. Our data set is comprised of their monthly customer profile. Per Kaggle, the purveyor of the website, \"the target binary variable is calculated by observing 18 months performance window after the latest credit card statement . . . . if the customer does not pay [the amount due] 120 days after their latest statement date it is considered a default event.\"\n",
        "\n",
        "The data set contains customer-level statement information. Features are anonymized, normalized, and fall into the following general categories:\n",
        "\n",
        "D_* = Delinquency variables, S_* = Spend variables, P_* = Payment variables, B_* = Balance variables, R_* = Risk variables. \n",
        "\n",
        "The following features are categorical:\n",
        "['B_30', 'B_38', 'D_114', 'D_116', 'D_117', 'D_120', 'D_126', 'D_63', 'D_64', 'D_66', 'D_68']\n",
        "\n",
        "Our task is to predict, for each customer_ID, the probability of a future payment default (target = 1).\n",
        "\n",
        "Source(https://www.kaggle.com/competitions/amex-default-prediction/data?select=train_labels.csv)"
      ],
      "metadata": {
        "id": "AVbUQ1v5xUve"
      }
    },
    {
      "cell_type": "markdown",
      "source": [
        "# 1.0 Imports"
      ],
      "metadata": {
        "id": "k6JMxtzx0bxJ"
      }
    },
    {
      "cell_type": "markdown",
      "source": [
        "A considerable amount of our work will ultimately rely on [PyCaret](https://pycaret.org/). Running the notebok requires importing it from outside of the Colab environment and, after running the following cell for the first time, restarting the notebook runtime. We can then continue with our imports."
      ],
      "metadata": {
        "id": "6rOZlN4w0mi1"
      }
    },
    {
      "cell_type": "code",
      "execution_count": null,
      "metadata": {
        "id": "fEuJBWI2gMyv"
      },
      "outputs": [],
      "source": [
        "!pip install --pre pycaret --quiet"
      ]
    },
    {
      "cell_type": "markdown",
      "source": [
        "Beyond a special line of code to retrieve PyCaret, we import the standard data science packages in the following cell. Note that PyCaret will import its preferred version of a number of packages -- including numpy -- automatically, along with numerous other obscure packages."
      ],
      "metadata": {
        "id": "1Egm-XAD1c-a"
      }
    },
    {
      "cell_type": "code",
      "source": [
        "import pandas as pd\n",
        "import matplotlib.pyplot as plt\n",
        "%matplotlib inline\n",
        "import seaborn as sns"
      ],
      "metadata": {
        "id": "2rcOznX-hgqR"
      },
      "execution_count": null,
      "outputs": []
    },
    {
      "cell_type": "markdown",
      "source": [
        "# 2.0 Data Acquisition"
      ],
      "metadata": {
        "id": "MEp-_5TY2Oyj"
      }
    },
    {
      "cell_type": "markdown",
      "source": [
        "Initially, we used pip and a wide array of command-line statements to import a zip file containing four csv's into our environment. Ultimately, however, we opted to store the data -- unzipped -- in our google drive. The logic was simple. While it's impressive to see dozens of estoteric command line instructions doing impressive things, the fact remained that ingesting via download and expansion every time took about 20 minutes. By contrast, taking possession of the file and placing it in our directory brings data ingestion time down to about 5 seconds. Were this project undertaken in a collaborative setting, we would place the data in high-performance files and make them available on git hub. "
      ],
      "metadata": {
        "id": "XpL4IsY13jBk"
      }
    },
    {
      "cell_type": "markdown",
      "source": [
        "Running the code below will bring our data into the Colab environment. Caveat programmer: The original files contained 10 million observations. Though it would be a delight to have so much information at our disposal, our capacity allows for only 10% of the data to be used efficiently."
      ],
      "metadata": {
        "id": "Hf4SSVIY5xzS"
      }
    },
    {
      "cell_type": "code",
      "source": [
        "\n",
        "train_labels = pd.read_csv('/content/drive/MyDrive/Amex/train_labels.csv', chunksize=1000000)\n",
        "train_set = pd.read_csv('/content/drive/MyDrive/Amex/train_data.csv', chunksize=1000000)\n",
        "sample_submission = pd.read_csv('/content/drive/MyDrive/Amex/sample_submission.csv', chunksize=1000000)\n",
        "test_set = pd.read_csv('/content/drive/MyDrive/Amex/test_data.csv', nrows=1000000)"
      ],
      "metadata": {
        "id": "1u90Wcztgoay"
      },
      "execution_count": null,
      "outputs": []
    },
    {
      "cell_type": "markdown",
      "source": [
        "Our design matrix (i.e., training set) and target labels are provided in separate files. Here, we merge them together and add a an extra column for our convenience."
      ],
      "metadata": {
        "id": "Mm5Ijb6-6qmD"
      }
    },
    {
      "cell_type": "code",
      "source": [
        "df = pd.DataFrame()\n",
        "for chunk, target in zip(train_set, train_labels):\n",
        "  merger = chunk.merge(target, how='inner', on='customer_ID')\n",
        "  merger['Count'] = 1\n",
        "  df = df.append(merger, ignore_index=True)\n",
        "df.head()"
      ],
      "metadata": {
        "colab": {
          "base_uri": "https://localhost:8080/",
          "height": 386
        },
        "id": "1xrDs3Xwiahn",
        "outputId": "fccaa201-e5dc-47a3-e507-1b66a546ce1c"
      },
      "execution_count": null,
      "outputs": [
        {
          "output_type": "execute_result",
          "data": {
            "text/plain": [
              "                                         customer_ID         S_2       P_2  \\\n",
              "0  0000099d6bd597052cdcda90ffabf56573fe9d7c79be5f...  2017-03-09  0.938469   \n",
              "1  0000099d6bd597052cdcda90ffabf56573fe9d7c79be5f...  2017-04-07  0.936665   \n",
              "2  0000099d6bd597052cdcda90ffabf56573fe9d7c79be5f...  2017-05-28  0.954180   \n",
              "3  0000099d6bd597052cdcda90ffabf56573fe9d7c79be5f...  2017-06-13  0.960384   \n",
              "4  0000099d6bd597052cdcda90ffabf56573fe9d7c79be5f...  2017-07-16  0.947248   \n",
              "\n",
              "       D_39       B_1       B_2       R_1       S_3      D_41       B_3  ...  \\\n",
              "0  0.001733  0.008724  1.006838  0.009228  0.124035  0.008771  0.004709  ...   \n",
              "1  0.005775  0.004923  1.000653  0.006151  0.126750  0.000798  0.002714  ...   \n",
              "2  0.091505  0.021655  1.009672  0.006815  0.123977  0.007598  0.009423  ...   \n",
              "3  0.002455  0.013683  1.002700  0.001373  0.117169  0.000685  0.005531  ...   \n",
              "4  0.002483  0.015193  1.000727  0.007605  0.117325  0.004653  0.009312  ...   \n",
              "\n",
              "   D_138     D_139     D_140     D_141  D_142     D_143     D_144     D_145  \\\n",
              "0    NaN  0.002427  0.003706  0.003818    NaN  0.000569  0.000610  0.002674   \n",
              "1    NaN  0.003954  0.003167  0.005032    NaN  0.009576  0.005492  0.009217   \n",
              "2    NaN  0.003269  0.007329  0.000427    NaN  0.003429  0.006986  0.002603   \n",
              "3    NaN  0.006117  0.004516  0.003200    NaN  0.008419  0.006527  0.009600   \n",
              "4    NaN  0.003671  0.004946  0.008889    NaN  0.001670  0.008126  0.009827   \n",
              "\n",
              "   target  Count  \n",
              "0       0      1  \n",
              "1       0      1  \n",
              "2       0      1  \n",
              "3       0      1  \n",
              "4       0      1  \n",
              "\n",
              "[5 rows x 192 columns]"
            ],
            "text/html": [
              "\n",
              "  <div id=\"df-c252028f-e9ba-4c95-ac9c-d03cd0dab493\">\n",
              "    <div class=\"colab-df-container\">\n",
              "      <div>\n",
              "<style scoped>\n",
              "    .dataframe tbody tr th:only-of-type {\n",
              "        vertical-align: middle;\n",
              "    }\n",
              "\n",
              "    .dataframe tbody tr th {\n",
              "        vertical-align: top;\n",
              "    }\n",
              "\n",
              "    .dataframe thead th {\n",
              "        text-align: right;\n",
              "    }\n",
              "</style>\n",
              "<table border=\"1\" class=\"dataframe\">\n",
              "  <thead>\n",
              "    <tr style=\"text-align: right;\">\n",
              "      <th></th>\n",
              "      <th>customer_ID</th>\n",
              "      <th>S_2</th>\n",
              "      <th>P_2</th>\n",
              "      <th>D_39</th>\n",
              "      <th>B_1</th>\n",
              "      <th>B_2</th>\n",
              "      <th>R_1</th>\n",
              "      <th>S_3</th>\n",
              "      <th>D_41</th>\n",
              "      <th>B_3</th>\n",
              "      <th>...</th>\n",
              "      <th>D_138</th>\n",
              "      <th>D_139</th>\n",
              "      <th>D_140</th>\n",
              "      <th>D_141</th>\n",
              "      <th>D_142</th>\n",
              "      <th>D_143</th>\n",
              "      <th>D_144</th>\n",
              "      <th>D_145</th>\n",
              "      <th>target</th>\n",
              "      <th>Count</th>\n",
              "    </tr>\n",
              "  </thead>\n",
              "  <tbody>\n",
              "    <tr>\n",
              "      <th>0</th>\n",
              "      <td>0000099d6bd597052cdcda90ffabf56573fe9d7c79be5f...</td>\n",
              "      <td>2017-03-09</td>\n",
              "      <td>0.938469</td>\n",
              "      <td>0.001733</td>\n",
              "      <td>0.008724</td>\n",
              "      <td>1.006838</td>\n",
              "      <td>0.009228</td>\n",
              "      <td>0.124035</td>\n",
              "      <td>0.008771</td>\n",
              "      <td>0.004709</td>\n",
              "      <td>...</td>\n",
              "      <td>NaN</td>\n",
              "      <td>0.002427</td>\n",
              "      <td>0.003706</td>\n",
              "      <td>0.003818</td>\n",
              "      <td>NaN</td>\n",
              "      <td>0.000569</td>\n",
              "      <td>0.000610</td>\n",
              "      <td>0.002674</td>\n",
              "      <td>0</td>\n",
              "      <td>1</td>\n",
              "    </tr>\n",
              "    <tr>\n",
              "      <th>1</th>\n",
              "      <td>0000099d6bd597052cdcda90ffabf56573fe9d7c79be5f...</td>\n",
              "      <td>2017-04-07</td>\n",
              "      <td>0.936665</td>\n",
              "      <td>0.005775</td>\n",
              "      <td>0.004923</td>\n",
              "      <td>1.000653</td>\n",
              "      <td>0.006151</td>\n",
              "      <td>0.126750</td>\n",
              "      <td>0.000798</td>\n",
              "      <td>0.002714</td>\n",
              "      <td>...</td>\n",
              "      <td>NaN</td>\n",
              "      <td>0.003954</td>\n",
              "      <td>0.003167</td>\n",
              "      <td>0.005032</td>\n",
              "      <td>NaN</td>\n",
              "      <td>0.009576</td>\n",
              "      <td>0.005492</td>\n",
              "      <td>0.009217</td>\n",
              "      <td>0</td>\n",
              "      <td>1</td>\n",
              "    </tr>\n",
              "    <tr>\n",
              "      <th>2</th>\n",
              "      <td>0000099d6bd597052cdcda90ffabf56573fe9d7c79be5f...</td>\n",
              "      <td>2017-05-28</td>\n",
              "      <td>0.954180</td>\n",
              "      <td>0.091505</td>\n",
              "      <td>0.021655</td>\n",
              "      <td>1.009672</td>\n",
              "      <td>0.006815</td>\n",
              "      <td>0.123977</td>\n",
              "      <td>0.007598</td>\n",
              "      <td>0.009423</td>\n",
              "      <td>...</td>\n",
              "      <td>NaN</td>\n",
              "      <td>0.003269</td>\n",
              "      <td>0.007329</td>\n",
              "      <td>0.000427</td>\n",
              "      <td>NaN</td>\n",
              "      <td>0.003429</td>\n",
              "      <td>0.006986</td>\n",
              "      <td>0.002603</td>\n",
              "      <td>0</td>\n",
              "      <td>1</td>\n",
              "    </tr>\n",
              "    <tr>\n",
              "      <th>3</th>\n",
              "      <td>0000099d6bd597052cdcda90ffabf56573fe9d7c79be5f...</td>\n",
              "      <td>2017-06-13</td>\n",
              "      <td>0.960384</td>\n",
              "      <td>0.002455</td>\n",
              "      <td>0.013683</td>\n",
              "      <td>1.002700</td>\n",
              "      <td>0.001373</td>\n",
              "      <td>0.117169</td>\n",
              "      <td>0.000685</td>\n",
              "      <td>0.005531</td>\n",
              "      <td>...</td>\n",
              "      <td>NaN</td>\n",
              "      <td>0.006117</td>\n",
              "      <td>0.004516</td>\n",
              "      <td>0.003200</td>\n",
              "      <td>NaN</td>\n",
              "      <td>0.008419</td>\n",
              "      <td>0.006527</td>\n",
              "      <td>0.009600</td>\n",
              "      <td>0</td>\n",
              "      <td>1</td>\n",
              "    </tr>\n",
              "    <tr>\n",
              "      <th>4</th>\n",
              "      <td>0000099d6bd597052cdcda90ffabf56573fe9d7c79be5f...</td>\n",
              "      <td>2017-07-16</td>\n",
              "      <td>0.947248</td>\n",
              "      <td>0.002483</td>\n",
              "      <td>0.015193</td>\n",
              "      <td>1.000727</td>\n",
              "      <td>0.007605</td>\n",
              "      <td>0.117325</td>\n",
              "      <td>0.004653</td>\n",
              "      <td>0.009312</td>\n",
              "      <td>...</td>\n",
              "      <td>NaN</td>\n",
              "      <td>0.003671</td>\n",
              "      <td>0.004946</td>\n",
              "      <td>0.008889</td>\n",
              "      <td>NaN</td>\n",
              "      <td>0.001670</td>\n",
              "      <td>0.008126</td>\n",
              "      <td>0.009827</td>\n",
              "      <td>0</td>\n",
              "      <td>1</td>\n",
              "    </tr>\n",
              "  </tbody>\n",
              "</table>\n",
              "<p>5 rows × 192 columns</p>\n",
              "</div>\n",
              "      <button class=\"colab-df-convert\" onclick=\"convertToInteractive('df-c252028f-e9ba-4c95-ac9c-d03cd0dab493')\"\n",
              "              title=\"Convert this dataframe to an interactive table.\"\n",
              "              style=\"display:none;\">\n",
              "        \n",
              "  <svg xmlns=\"http://www.w3.org/2000/svg\" height=\"24px\"viewBox=\"0 0 24 24\"\n",
              "       width=\"24px\">\n",
              "    <path d=\"M0 0h24v24H0V0z\" fill=\"none\"/>\n",
              "    <path d=\"M18.56 5.44l.94 2.06.94-2.06 2.06-.94-2.06-.94-.94-2.06-.94 2.06-2.06.94zm-11 1L8.5 8.5l.94-2.06 2.06-.94-2.06-.94L8.5 2.5l-.94 2.06-2.06.94zm10 10l.94 2.06.94-2.06 2.06-.94-2.06-.94-.94-2.06-.94 2.06-2.06.94z\"/><path d=\"M17.41 7.96l-1.37-1.37c-.4-.4-.92-.59-1.43-.59-.52 0-1.04.2-1.43.59L10.3 9.45l-7.72 7.72c-.78.78-.78 2.05 0 2.83L4 21.41c.39.39.9.59 1.41.59.51 0 1.02-.2 1.41-.59l7.78-7.78 2.81-2.81c.8-.78.8-2.07 0-2.86zM5.41 20L4 18.59l7.72-7.72 1.47 1.35L5.41 20z\"/>\n",
              "  </svg>\n",
              "      </button>\n",
              "      \n",
              "  <style>\n",
              "    .colab-df-container {\n",
              "      display:flex;\n",
              "      flex-wrap:wrap;\n",
              "      gap: 12px;\n",
              "    }\n",
              "\n",
              "    .colab-df-convert {\n",
              "      background-color: #E8F0FE;\n",
              "      border: none;\n",
              "      border-radius: 50%;\n",
              "      cursor: pointer;\n",
              "      display: none;\n",
              "      fill: #1967D2;\n",
              "      height: 32px;\n",
              "      padding: 0 0 0 0;\n",
              "      width: 32px;\n",
              "    }\n",
              "\n",
              "    .colab-df-convert:hover {\n",
              "      background-color: #E2EBFA;\n",
              "      box-shadow: 0px 1px 2px rgba(60, 64, 67, 0.3), 0px 1px 3px 1px rgba(60, 64, 67, 0.15);\n",
              "      fill: #174EA6;\n",
              "    }\n",
              "\n",
              "    [theme=dark] .colab-df-convert {\n",
              "      background-color: #3B4455;\n",
              "      fill: #D2E3FC;\n",
              "    }\n",
              "\n",
              "    [theme=dark] .colab-df-convert:hover {\n",
              "      background-color: #434B5C;\n",
              "      box-shadow: 0px 1px 3px 1px rgba(0, 0, 0, 0.15);\n",
              "      filter: drop-shadow(0px 1px 2px rgba(0, 0, 0, 0.3));\n",
              "      fill: #FFFFFF;\n",
              "    }\n",
              "  </style>\n",
              "\n",
              "      <script>\n",
              "        const buttonEl =\n",
              "          document.querySelector('#df-c252028f-e9ba-4c95-ac9c-d03cd0dab493 button.colab-df-convert');\n",
              "        buttonEl.style.display =\n",
              "          google.colab.kernel.accessAllowed ? 'block' : 'none';\n",
              "\n",
              "        async function convertToInteractive(key) {\n",
              "          const element = document.querySelector('#df-c252028f-e9ba-4c95-ac9c-d03cd0dab493');\n",
              "          const dataTable =\n",
              "            await google.colab.kernel.invokeFunction('convertToInteractive',\n",
              "                                                     [key], {});\n",
              "          if (!dataTable) return;\n",
              "\n",
              "          const docLinkHtml = 'Like what you see? Visit the ' +\n",
              "            '<a target=\"_blank\" href=https://colab.research.google.com/notebooks/data_table.ipynb>data table notebook</a>'\n",
              "            + ' to learn more about interactive tables.';\n",
              "          element.innerHTML = '';\n",
              "          dataTable['output_type'] = 'display_data';\n",
              "          await google.colab.output.renderOutput(dataTable, element);\n",
              "          const docLink = document.createElement('div');\n",
              "          docLink.innerHTML = docLinkHtml;\n",
              "          element.appendChild(docLink);\n",
              "        }\n",
              "      </script>\n",
              "    </div>\n",
              "  </div>\n",
              "  "
            ]
          },
          "metadata": {},
          "execution_count": 4
        }
      ]
    },
    {
      "cell_type": "markdown",
      "source": [
        "# 3.0 Exploratory Data Analysis"
      ],
      "metadata": {
        "id": "R8zvVhtF8TwT"
      }
    },
    {
      "cell_type": "markdown",
      "source": [
        "The next two cells provide us with a global view of our data set."
      ],
      "metadata": {
        "id": "BWfP6UN07yv-"
      }
    },
    {
      "cell_type": "code",
      "source": [
        "print(f'We have {len(df.columns)} features in our data set (including the target and our count columns) and {df.shape[0]} observations.')"
      ],
      "metadata": {
        "colab": {
          "base_uri": "https://localhost:8080/"
        },
        "id": "8hp_thaHk9nb",
        "outputId": "487b5cbc-82ad-4af1-a0c1-80a622d96eef"
      },
      "execution_count": null,
      "outputs": [
        {
          "output_type": "stream",
          "name": "stdout",
          "text": [
            "We have 192 features in our data set (including the target and our count columns) and 1000000 observations.\n"
          ]
        }
      ]
    },
    {
      "cell_type": "code",
      "source": [
        "print(df.dtypes[:25])"
      ],
      "metadata": {
        "colab": {
          "base_uri": "https://localhost:8080/"
        },
        "id": "2MOlrpGrlAOv",
        "outputId": "911db096-cb31-444c-ea0e-646b8ef53763"
      },
      "execution_count": null,
      "outputs": [
        {
          "output_type": "stream",
          "name": "stdout",
          "text": [
            "customer_ID     object\n",
            "S_2             object\n",
            "P_2            float64\n",
            "D_39           float64\n",
            "B_1            float64\n",
            "B_2            float64\n",
            "R_1            float64\n",
            "S_3            float64\n",
            "D_41           float64\n",
            "B_3            float64\n",
            "D_42           float64\n",
            "D_43           float64\n",
            "D_44           float64\n",
            "B_4            float64\n",
            "D_45           float64\n",
            "B_5            float64\n",
            "R_2            float64\n",
            "D_46           float64\n",
            "D_47           float64\n",
            "D_48           float64\n",
            "D_49           float64\n",
            "B_6            float64\n",
            "B_7            float64\n",
            "B_8            float64\n",
            "D_50           float64\n",
            "dtype: object\n"
          ]
        }
      ]
    },
    {
      "cell_type": "markdown",
      "source": [
        "Our data look quite different when grouped."
      ],
      "metadata": {
        "id": "BexTFVo885FB"
      }
    },
    {
      "cell_type": "code",
      "source": [
        "print(f'There are {len(df[\"customer_ID\"].unique())} unique customers in our data set versus {len(df)} individual observations.\\nThis suggests the data contain multiple transactions per customer.')"
      ],
      "metadata": {
        "colab": {
          "base_uri": "https://localhost:8080/"
        },
        "id": "yIydbal3lFQj",
        "outputId": "5f10e7d1-40cc-4c45-c5cb-f0dcb16508dc"
      },
      "execution_count": null,
      "outputs": [
        {
          "output_type": "stream",
          "name": "stdout",
          "text": [
            "There are 82975 unique customers in our data set versus 1000000 individual observations.\n",
            "This suggests the data contain multiple transactions per customer.\n"
          ]
        }
      ]
    },
    {
      "cell_type": "code",
      "source": [
        "df.groupby('customer_ID')['Count'].agg('sum').describe()"
      ],
      "metadata": {
        "colab": {
          "base_uri": "https://localhost:8080/"
        },
        "id": "4qDhkD1flNgf",
        "outputId": "2d9b2a58-722d-469f-d702-adb923c315fa"
      },
      "execution_count": null,
      "outputs": [
        {
          "output_type": "execute_result",
          "data": {
            "text/plain": [
              "count    82975.000000\n",
              "mean        12.051823\n",
              "std          2.608744\n",
              "min          1.000000\n",
              "25%         13.000000\n",
              "50%         13.000000\n",
              "75%         13.000000\n",
              "max         13.000000\n",
              "Name: Count, dtype: float64"
            ]
          },
          "metadata": {},
          "execution_count": 8
        }
      ]
    },
    {
      "cell_type": "markdown",
      "source": [
        "The above results are unexpected. The mean and median (marked '50%') are nearly the same. Furthermore, the same number characterizes the entire interquartile range.  This is either quite a coincidence or evidence that our data are manufactured."
      ],
      "metadata": {
        "id": "kSjIHcFQlWzk"
      }
    },
    {
      "cell_type": "markdown",
      "source": [
        "As demonstrated by the graph below, a maximum of 13 observations were taken from a large number customers, while fewer than 13 transactions were collected from a minority of cases."
      ],
      "metadata": {
        "id": "xNx6SbLulqF3"
      }
    },
    {
      "cell_type": "code",
      "source": [
        "group_obj = df.groupby(['customer_ID'])['Count'].sum().reset_index()\n",
        "plt.figure(figsize = (14,8))\n",
        "sns.histplot(data = group_obj, x = 'Count', bins=13)\n",
        "plt.ylabel(\"Number of Transactions\", size=14)\n",
        "plt.xlabel(\"Transaction Count\", size=14)\n",
        "plt.title(\"Number of Transactions Per Customer ID\", size=16);"
      ],
      "metadata": {
        "colab": {
          "base_uri": "https://localhost:8080/",
          "height": 519
        },
        "id": "vPnHcY65lke6",
        "outputId": "89400e23-2b2f-45ef-f709-d19055b6b343"
      },
      "execution_count": null,
      "outputs": [
        {
          "output_type": "display_data",
          "data": {
            "text/plain": [
              "<Figure size 1008x576 with 1 Axes>"
            ],
            "image/png": "[encoded data removed]"
          },
          "metadata": {
            "needs_background": "light"
          }
        }
      ]
    },
    {
      "cell_type": "markdown",
      "source": [
        "Classification problems are typified by an imbalance between the positive and negative classes. There are fewer positive cases in our study than there are instances of the negative case. Represented by a '1' in our target column, our positive case is 'delinquency,' an admittedly negative event. Our negative case, represented by a '0' by in the target column, represents a customer whose account is in order. The following cell tells us the distribution between the positive and negative classes. "
      ],
      "metadata": {
        "id": "sdDugM_F-Mnu"
      }
    },
    {
      "cell_type": "code",
      "source": [
        "class_distribution = df.target.value_counts()\n",
        "print(f'Approximately {round(class_distribution[1]/class_distribution[0],2)*100}% of observations are in the positive (delinquent) class.')\n",
        "class_distribution"
      ],
      "metadata": {
        "colab": {
          "base_uri": "https://localhost:8080/"
        },
        "id": "VlPmGb6KnOAc",
        "outputId": "b56ab043-c693-4e8e-c82a-cca9e68decd2"
      },
      "execution_count": null,
      "outputs": [
        {
          "output_type": "stream",
          "name": "stdout",
          "text": [
            "Approximately 33.0% of observations are in the positive (delinquent) class.\n"
          ]
        },
        {
          "output_type": "execute_result",
          "data": {
            "text/plain": [
              "0    749613\n",
              "1    250387\n",
              "Name: target, dtype: int64"
            ]
          },
          "metadata": {},
          "execution_count": 10
        }
      ]
    },
    {
      "cell_type": "markdown",
      "source": [
        "Features with cases missing data are commonplace in data analytics. In the cell below, we calculate that, on average, our features are missing just over 15% of their data."
      ],
      "metadata": {
        "id": "7Z1ll4jhClmE"
      }
    },
    {
      "cell_type": "code",
      "source": [
        "missing = round(((df.isna().sum())/len(df)),2) * 100\n",
        "avg = round(((df.isna().sum())/len(df)),2)* 100\n",
        "print(f'The mean percentage of missing values is {round(avg.mean(), 2)}%.')"
      ],
      "metadata": {
        "colab": {
          "base_uri": "https://localhost:8080/"
        },
        "id": "9TF_MQmcn1zs",
        "outputId": "bb89301d-1821-4435-ed75-07c1fef0b776"
      },
      "execution_count": null,
      "outputs": [
        {
          "output_type": "stream",
          "name": "stdout",
          "text": [
            "The mean percentage of missing values is 15.11%.\n"
          ]
        }
      ]
    },
    {
      "cell_type": "markdown",
      "source": [
        "To narrow the feature space to include only the most informative columns, we will keep only those columns with less at least 15% of their data."
      ],
      "metadata": {
        "id": "ZhRJpJt9_6bO"
      }
    },
    {
      "cell_type": "code",
      "source": [
        "# the threshold is the percentage missing above which we no longer wish to consider the feature\n",
        "threshold = .15\n",
        "df = df.loc[:, df.isnull().mean() < threshold]\n",
        "train_columns = list(df.columns)"
      ],
      "metadata": {
        "id": "gIIfOgEWn9cS"
      },
      "execution_count": null,
      "outputs": []
    },
    {
      "cell_type": "markdown",
      "source": [
        "Our feature space in our training set must match the feature space in our test set. To do this, we take the set intersection of the features in our training set, which now has fewer columns, and the columns in our test set."
      ],
      "metadata": {
        "id": "E-vibd3_AR6m"
      }
    },
    {
      "cell_type": "code",
      "source": [
        "test_columns = list(test_set)\n",
        "cols_to_keep = set(test_columns).intersection(set(train_columns))"
      ],
      "metadata": {
        "id": "1uCyS_eVoD7z"
      },
      "execution_count": null,
      "outputs": []
    },
    {
      "cell_type": "markdown",
      "source": [
        "The set intersection above provides us with the names of the features with which we will work. Below, we make the actual modifications to our data sets by keeping only the columns we've selected."
      ],
      "metadata": {
        "id": "GMgifT-GA1Bb"
      }
    },
    {
      "cell_type": "code",
      "source": [
        "test_modified = test_set[list(cols_to_keep)]\n",
        "target = df['target']\n",
        "train_modified = df[list(cols_to_keep)]"
      ],
      "metadata": {
        "id": "kGcQJy61oOxu"
      },
      "execution_count": null,
      "outputs": []
    },
    {
      "cell_type": "markdown",
      "source": [
        "Here, we ensure that our target column is attached to our new training data frame."
      ],
      "metadata": {
        "id": "r63W4aVyD8m0"
      }
    },
    {
      "cell_type": "code",
      "source": [
        "train_modified2 = pd.concat([train_modified, pd.DataFrame(target)], axis=\"columns\")"
      ],
      "metadata": {
        "id": "U5wJ6W7_oa3x"
      },
      "execution_count": null,
      "outputs": []
    },
    {
      "cell_type": "code",
      "source": [
        "#train_modified2 = train_modified2.copy(deep=True)\n",
        "#test_modified = test_modified.copy(deep=True)"
      ],
      "metadata": {
        "id": "czoWLMjbogBc"
      },
      "execution_count": null,
      "outputs": []
    },
    {
      "cell_type": "markdown",
      "source": [
        "To ensure we retain our original data (just in case) and seamlessly proceed to the feature engineering phase of our analysis, we make deep copies of both data frames and introduce a change of variable."
      ],
      "metadata": {
        "id": "pbHBCHYhEP1e"
      }
    },
    {
      "cell_type": "code",
      "source": [
        "train = train_modified2.copy(deep=True)\n",
        "test = test_modified.copy(deep=True)"
      ],
      "metadata": {
        "id": "PVcM0RC4oySV"
      },
      "execution_count": null,
      "outputs": []
    },
    {
      "cell_type": "markdown",
      "source": [
        "#4.0 Feature Engineering"
      ],
      "metadata": {
        "id": "y93mucUGE2yL"
      }
    },
    {
      "cell_type": "markdown",
      "source": [
        "Our dataframes contain date data. This can be mined for the month, the number of the day during the month, and the day of the week. Below, we extract this information for future use, in both our training and testing sets. "
      ],
      "metadata": {
        "id": "YZuYkgqYE1xW"
      }
    },
    {
      "cell_type": "code",
      "source": [
        "train['S_2'] = train['S_2'].astype('datetime64[ns]')\n",
        "train['month'] = train['S_2'].dt.month\n",
        "train['day'] = train['S_2'].dt.day\n",
        "train['weekday'] = train['S_2'].dt.day_name()\n",
        "train.drop(['S_2'], axis=1, inplace=True)"
      ],
      "metadata": {
        "id": "ZBnawXMApFHx"
      },
      "execution_count": null,
      "outputs": []
    },
    {
      "cell_type": "code",
      "source": [
        "test['S_2'] = test['S_2'].astype('datetime64[ns]')\n",
        "test['month'] = test['S_2'].dt.month\n",
        "test['day'] = test['S_2'].dt.day\n",
        "test['weekday'] = test['S_2'].dt.day_name()\n",
        "test.drop(['S_2'], axis=1, inplace=True)"
      ],
      "metadata": {
        "id": "Moy61J17pNDB"
      },
      "execution_count": null,
      "outputs": []
    },
    {
      "cell_type": "markdown",
      "source": [
        "For the curious, the new date information vectors are now appended to our data sets, as shown in the following two cells."
      ],
      "metadata": {
        "id": "5fDq6aibGDrw"
      }
    },
    {
      "cell_type": "code",
      "source": [
        "train.loc[:,'D_145':].head()"
      ],
      "metadata": {
        "colab": {
          "base_uri": "https://localhost:8080/",
          "height": 169
        },
        "id": "aDRrYcGNpUhv",
        "outputId": "efcdb5cc-685c-4240-8bcd-faa3e5b7a893"
      },
      "execution_count": null,
      "outputs": [
        {
          "output_type": "error",
          "ename": "NameError",
          "evalue": "ignored",
          "traceback": [
            "\u001b[0;31m---------------------------------------------------------------------------\u001b[0m",
            "\u001b[0;31mNameError\u001b[0m                                 Traceback (most recent call last)",
            "\u001b[0;32m<ipython-input-1-5f266e6cb651>\u001b[0m in \u001b[0;36m<module>\u001b[0;34m\u001b[0m\n\u001b[0;32m----> 1\u001b[0;31m \u001b[0mtrain\u001b[0m\u001b[0;34m.\u001b[0m\u001b[0mloc\u001b[0m\u001b[0;34m[\u001b[0m\u001b[0;34m:\u001b[0m\u001b[0;34m,\u001b[0m\u001b[0;34m'D_145'\u001b[0m\u001b[0;34m:\u001b[0m\u001b[0;34m]\u001b[0m\u001b[0;34m.\u001b[0m\u001b[0mhead\u001b[0m\u001b[0;34m(\u001b[0m\u001b[0;34m)\u001b[0m\u001b[0;34m\u001b[0m\u001b[0;34m\u001b[0m\u001b[0m\n\u001b[0m",
            "\u001b[0;31mNameError\u001b[0m: name 'train' is not defined"
          ]
        }
      ]
    },
    {
      "cell_type": "code",
      "source": [
        "test.loc[:,'D_145':].head()"
      ],
      "metadata": {
        "id": "o_q1b_yQpZdw"
      },
      "execution_count": null,
      "outputs": []
    },
    {
      "cell_type": "markdown",
      "source": [
        "We know which columns contain continuous data and which features are categorical. Here's we separate the two and fill the missing data in continuous columns with the columns' mean. The mean of any relevant training set column is also placed in the empty slots found in the corresponding vector in the training set. This allows us to avoid data leakage.\n",
        "\n",
        "The cell immmediately below illustrates our work on features containing continuous values."
      ],
      "metadata": {
        "id": "ITWC60U6GkUz"
      }
    },
    {
      "cell_type": "code",
      "source": [
        "# fill select columns with mean\n",
        "revised_columns = cols_to_keep - set(['D_63', 'D_64', 'D_68', 'B_30', 'B_31', 'B_38', 'D_114', 'D_116', 'D_117', 'D_120', 'D_126', 'S_2', 'customer_ID'])\n",
        "revised_columns = list(revised_columns)\n",
        "train[revised_columns] = train[revised_columns].fillna(value=train[revised_columns].mean())\n",
        "# missing test values replaced with train column means to prevent data leakage\n",
        "test[revised_columns] = test[revised_columns].fillna(value=train[revised_columns].mean())"
      ],
      "metadata": {
        "id": "cIHAICJ5pyVs"
      },
      "execution_count": null,
      "outputs": []
    },
    {
      "cell_type": "markdown",
      "source": [
        "In the next cell, we demonstrate how we cope with missing categorical data. Specifically, we find the most frequently seen data point in the training set for each categorical vector and use it to fill-in missing data. We take those same values and repeat the process on the training set."
      ],
      "metadata": {
        "id": "nfqmFjJ8Hhqf"
      }
    },
    {
      "cell_type": "code",
      "source": [
        "train['D_63'].fillna('CO', inplace=True)\n",
        "train['D_64'].fillna('O', inplace=True)\n",
        "train['D_68'].fillna(6, inplace=True)\n",
        "train['B_30'].fillna(0, inplace=True)\n",
        "train['B_31'].fillna(1, inplace=True)\n",
        "train['B_38'].fillna(2, inplace=True)\n",
        "train['D_114'].fillna(1, inplace=True)\n",
        "train['D_116'].fillna(0, inplace=True)\n",
        "train['D_117'].fillna(-1, inplace=True)\n",
        "train['D_120'].fillna(0, inplace=True)\n",
        "train['D_126'].fillna(1, inplace=True)\n",
        "print(\"Training Set Missing Values Imputed.\")\n",
        "print('\\n')\n",
        "test['D_63'].fillna('CO', inplace=True)\n",
        "test['D_64'].fillna('O', inplace=True)\n",
        "test['D_68'].fillna(6, inplace=True)\n",
        "test['B_30'].fillna(0, inplace=True)\n",
        "test['B_31'].fillna(1, inplace=True)\n",
        "test['B_38'].fillna(2, inplace=True)\n",
        "test['D_114'].fillna(1, inplace=True)\n",
        "test['D_116'].fillna(0, inplace=True)\n",
        "test['D_117'].fillna(-1, inplace=True)\n",
        "test['D_120'].fillna(0, inplace=True)\n",
        "test['D_126'].fillna(1, inplace=True)\n",
        "print(\"Missing values in test set replaced with mean of training set to prevent data leakage.\")"
      ],
      "metadata": {
        "colab": {
          "base_uri": "https://localhost:8080/"
        },
        "id": "YEpB1ihlp7OI",
        "outputId": "fee49fcc-2641-4fab-b815-ee89293bfaf1"
      },
      "execution_count": null,
      "outputs": [
        {
          "output_type": "stream",
          "name": "stdout",
          "text": [
            "Training Set Missing Values Imputed.\n",
            "\n",
            "\n",
            "Missing values in test set replaced with mean of training set to prevent data leakage.\n"
          ]
        }
      ]
    },
    {
      "cell_type": "markdown",
      "source": [
        "Numerical data representing categories and string data representing categorical information must be transformed to be useful in this context. Below, we import the binary encoder used to perform the transformation. Note, while we typically make a practice of doing all imports at the start of our notebook, issues with loading and working with PyCaret for the first time made this the most expedient choice."
      ],
      "metadata": {
        "id": "lp90VrIDOy58"
      }
    },
    {
      "cell_type": "code",
      "source": [
        "%pip install --upgrade category_encoders --quiet\n",
        "import category_encoders\n",
        "from category_encoders import BinaryEncoder"
      ],
      "metadata": {
        "id": "F8ZtX_q1qDe_"
      },
      "execution_count": null,
      "outputs": []
    },
    {
      "cell_type": "markdown",
      "source": [
        "Here, we specify the columns whose encoding we will change, instantiate separate encoders for the training and test sets, and transform our data. "
      ],
      "metadata": {
        "id": "ihQskAnRPtHf"
      }
    },
    {
      "cell_type": "code",
      "source": [
        "cols = ['D_63', 'D_64', 'D_68', 'B_30', 'B_31', 'B_38', 'D_114', 'D_116', 'D_117', 'D_120', 'D_126', 'month', 'day', 'weekday']\n",
        "encoder = BinaryEncoder(cols = cols, return_df = True)\n",
        "train = encoder.fit_transform(train)\n",
        "train = train.copy(deep=True)\n",
        "\n",
        "encoder2 = BinaryEncoder(cols = cols, return_df = True)\n",
        "test = encoder2.fit_transform(test)\n",
        "test = test.copy(deep = True)"
      ],
      "metadata": {
        "id": "SMyQ7f2wqObT"
      },
      "execution_count": null,
      "outputs": []
    },
    {
      "cell_type": "markdown",
      "source": [
        "# 5.0 Modeling and Model Testing"
      ],
      "metadata": {
        "id": "v9OLHKPgRudV"
      }
    },
    {
      "cell_type": "markdown",
      "source": [
        "PyCaret is designed to do everything we just accomplished automatically. This begs the question: Did we just waste our time? The answer is a firm, \"no.\" Using black boxes is horrible practice. Consequently, we've limited our use of PyCaret, restricting it to the modeling phase of our study."
      ],
      "metadata": {
        "id": "QzPsezy4R6bf"
      }
    },
    {
      "cell_type": "markdown",
      "source": [
        "Though we have a test set, PyCaret splits the data in its own way for training and testing. This is what is occurring in the following cell."
      ],
      "metadata": {
        "id": "PhUjmvPRSjcO"
      }
    },
    {
      "cell_type": "code",
      "source": [
        "y = train['target']\n",
        "X_pycaret = train.copy(deep=True)\n",
        "#X_pycaret = X_pycaret.drop(['Count', 'customer_ID'], axis=1)\n",
        "data = X_pycaret.sample(frac=0.70, random_state=144).reset_index(drop=True)\n",
        "data_unseen = X_pycaret.drop(data.index).reset_index(drop=True)\n",
        "\n",
        "print('Data for Modeling: ' + str(data.shape))\n",
        "print('Unseen Data For Predictions: ' + str(data_unseen.shape))"
      ],
      "metadata": {
        "colab": {
          "base_uri": "https://localhost:8080/"
        },
        "id": "UzmcMsp_qqGI",
        "outputId": "7be58830-e8c4-45dd-aa3d-a36cde252ce9"
      },
      "execution_count": null,
      "outputs": [
        {
          "output_type": "stream",
          "name": "stdout",
          "text": [
            "Data for Modeling: (700000, 182)\n",
            "Unseen Data For Predictions: (300000, 182)\n"
          ]
        }
      ]
    },
    {
      "cell_type": "markdown",
      "source": [
        "This is one of our more exciting lines of code. Here, we setup PyCaret to use our training data and target to try several models that we believe could assist us in addressing our research question. PyCaret will also correct for multicollinearity (+70% correlation) and perform k-fold crossvalidation on our models where k = 3. Typically, we cross-validate on the interval [5, 10], however, we are resource constrained. SMOTE has also been selected to correct our class imbalance."
      ],
      "metadata": {
        "id": "oQ8HepFWS9o4"
      }
    },
    {
      "cell_type": "code",
      "source": [
        "from pycaret.classification import *\n",
        "s = setup(data = data, target = 'target', remove_multicollinearity=True, multicollinearity_threshold = .70, iterative_imputation_iters=2, fold=3, use_gpu=True, fix_imbalance=True, session_id=1024)"
      ],
      "metadata": {
        "colab": {
          "base_uri": "https://localhost:8080/",
          "height": 865
        },
        "id": "q6FL5JLWrAPu",
        "outputId": "8a6f56e1-2d8d-473d-9b73-3b189427c1d2"
      },
      "execution_count": null,
      "outputs": [
        {
          "output_type": "display_data",
          "data": {
            "text/plain": [
              "<pandas.io.formats.style.Styler at 0x7fae29cdb7f0>"
            ],
            "text/html": [
              "<style type=\"text/css\">\n",
              "#T_13dd0_row9_col1, #T_13dd0_row15_col1, #T_13dd0_row17_col1, #T_13dd0_row22_col1 {\n",
              "  background-color: lightgreen;\n",
              "}\n",
              "</style>\n",
              "<table id=\"T_13dd0_\" class=\"dataframe\">\n",
              "  <thead>\n",
              "    <tr>\n",
              "      <th class=\"blank level0\" >&nbsp;</th>\n",
              "      <th class=\"col_heading level0 col0\" >Description</th>\n",
              "      <th class=\"col_heading level0 col1\" >Value</th>\n",
              "    </tr>\n",
              "  </thead>\n",
              "  <tbody>\n",
              "    <tr>\n",
              "      <th id=\"T_13dd0_level0_row0\" class=\"row_heading level0 row0\" >0</th>\n",
              "      <td id=\"T_13dd0_row0_col0\" class=\"data row0 col0\" >Session id</td>\n",
              "      <td id=\"T_13dd0_row0_col1\" class=\"data row0 col1\" >1024</td>\n",
              "    </tr>\n",
              "    <tr>\n",
              "      <th id=\"T_13dd0_level0_row1\" class=\"row_heading level0 row1\" >1</th>\n",
              "      <td id=\"T_13dd0_row1_col0\" class=\"data row1 col0\" >Target</td>\n",
              "      <td id=\"T_13dd0_row1_col1\" class=\"data row1 col1\" >target</td>\n",
              "    </tr>\n",
              "    <tr>\n",
              "      <th id=\"T_13dd0_level0_row2\" class=\"row_heading level0 row2\" >2</th>\n",
              "      <td id=\"T_13dd0_row2_col0\" class=\"data row2 col0\" >Target type</td>\n",
              "      <td id=\"T_13dd0_row2_col1\" class=\"data row2 col1\" >Binary</td>\n",
              "    </tr>\n",
              "    <tr>\n",
              "      <th id=\"T_13dd0_level0_row3\" class=\"row_heading level0 row3\" >3</th>\n",
              "      <td id=\"T_13dd0_row3_col0\" class=\"data row3 col0\" >Original data shape</td>\n",
              "      <td id=\"T_13dd0_row3_col1\" class=\"data row3 col1\" >(700000, 182)</td>\n",
              "    </tr>\n",
              "    <tr>\n",
              "      <th id=\"T_13dd0_level0_row4\" class=\"row_heading level0 row4\" >4</th>\n",
              "      <td id=\"T_13dd0_row4_col0\" class=\"data row4 col0\" >Transformed data shape</td>\n",
              "      <td id=\"T_13dd0_row4_col1\" class=\"data row4 col1\" >(944341, 147)</td>\n",
              "    </tr>\n",
              "    <tr>\n",
              "      <th id=\"T_13dd0_level0_row5\" class=\"row_heading level0 row5\" >5</th>\n",
              "      <td id=\"T_13dd0_row5_col0\" class=\"data row5 col0\" >Transformed train set shape</td>\n",
              "      <td id=\"T_13dd0_row5_col1\" class=\"data row5 col1\" >(734340, 147)</td>\n",
              "    </tr>\n",
              "    <tr>\n",
              "      <th id=\"T_13dd0_level0_row6\" class=\"row_heading level0 row6\" >6</th>\n",
              "      <td id=\"T_13dd0_row6_col0\" class=\"data row6 col0\" >Transformed test set shape</td>\n",
              "      <td id=\"T_13dd0_row6_col1\" class=\"data row6 col1\" >(210001, 147)</td>\n",
              "    </tr>\n",
              "    <tr>\n",
              "      <th id=\"T_13dd0_level0_row7\" class=\"row_heading level0 row7\" >7</th>\n",
              "      <td id=\"T_13dd0_row7_col0\" class=\"data row7 col0\" >Numeric features</td>\n",
              "      <td id=\"T_13dd0_row7_col1\" class=\"data row7 col1\" >180</td>\n",
              "    </tr>\n",
              "    <tr>\n",
              "      <th id=\"T_13dd0_level0_row8\" class=\"row_heading level0 row8\" >8</th>\n",
              "      <td id=\"T_13dd0_row8_col0\" class=\"data row8 col0\" >Categorical features</td>\n",
              "      <td id=\"T_13dd0_row8_col1\" class=\"data row8 col1\" >1</td>\n",
              "    </tr>\n",
              "    <tr>\n",
              "      <th id=\"T_13dd0_level0_row9\" class=\"row_heading level0 row9\" >9</th>\n",
              "      <td id=\"T_13dd0_row9_col0\" class=\"data row9 col0\" >Preprocess</td>\n",
              "      <td id=\"T_13dd0_row9_col1\" class=\"data row9 col1\" >True</td>\n",
              "    </tr>\n",
              "    <tr>\n",
              "      <th id=\"T_13dd0_level0_row10\" class=\"row_heading level0 row10\" >10</th>\n",
              "      <td id=\"T_13dd0_row10_col0\" class=\"data row10 col0\" >Imputation type</td>\n",
              "      <td id=\"T_13dd0_row10_col1\" class=\"data row10 col1\" >simple</td>\n",
              "    </tr>\n",
              "    <tr>\n",
              "      <th id=\"T_13dd0_level0_row11\" class=\"row_heading level0 row11\" >11</th>\n",
              "      <td id=\"T_13dd0_row11_col0\" class=\"data row11 col0\" >Numeric imputation</td>\n",
              "      <td id=\"T_13dd0_row11_col1\" class=\"data row11 col1\" >mean</td>\n",
              "    </tr>\n",
              "    <tr>\n",
              "      <th id=\"T_13dd0_level0_row12\" class=\"row_heading level0 row12\" >12</th>\n",
              "      <td id=\"T_13dd0_row12_col0\" class=\"data row12 col0\" >Categorical imputation</td>\n",
              "      <td id=\"T_13dd0_row12_col1\" class=\"data row12 col1\" >mode</td>\n",
              "    </tr>\n",
              "    <tr>\n",
              "      <th id=\"T_13dd0_level0_row13\" class=\"row_heading level0 row13\" >13</th>\n",
              "      <td id=\"T_13dd0_row13_col0\" class=\"data row13 col0\" >Maximum one-hot encoding</td>\n",
              "      <td id=\"T_13dd0_row13_col1\" class=\"data row13 col1\" >25</td>\n",
              "    </tr>\n",
              "    <tr>\n",
              "      <th id=\"T_13dd0_level0_row14\" class=\"row_heading level0 row14\" >14</th>\n",
              "      <td id=\"T_13dd0_row14_col0\" class=\"data row14 col0\" >Encoding method</td>\n",
              "      <td id=\"T_13dd0_row14_col1\" class=\"data row14 col1\" >None</td>\n",
              "    </tr>\n",
              "    <tr>\n",
              "      <th id=\"T_13dd0_level0_row15\" class=\"row_heading level0 row15\" >15</th>\n",
              "      <td id=\"T_13dd0_row15_col0\" class=\"data row15 col0\" >Remove multicollinearity</td>\n",
              "      <td id=\"T_13dd0_row15_col1\" class=\"data row15 col1\" >True</td>\n",
              "    </tr>\n",
              "    <tr>\n",
              "      <th id=\"T_13dd0_level0_row16\" class=\"row_heading level0 row16\" >16</th>\n",
              "      <td id=\"T_13dd0_row16_col0\" class=\"data row16 col0\" >Multicollinearity threshold</td>\n",
              "      <td id=\"T_13dd0_row16_col1\" class=\"data row16 col1\" >0.700000</td>\n",
              "    </tr>\n",
              "    <tr>\n",
              "      <th id=\"T_13dd0_level0_row17\" class=\"row_heading level0 row17\" >17</th>\n",
              "      <td id=\"T_13dd0_row17_col0\" class=\"data row17 col0\" >Fix imbalance</td>\n",
              "      <td id=\"T_13dd0_row17_col1\" class=\"data row17 col1\" >True</td>\n",
              "    </tr>\n",
              "    <tr>\n",
              "      <th id=\"T_13dd0_level0_row18\" class=\"row_heading level0 row18\" >18</th>\n",
              "      <td id=\"T_13dd0_row18_col0\" class=\"data row18 col0\" >Fix imbalance method</td>\n",
              "      <td id=\"T_13dd0_row18_col1\" class=\"data row18 col1\" >SMOTE</td>\n",
              "    </tr>\n",
              "    <tr>\n",
              "      <th id=\"T_13dd0_level0_row19\" class=\"row_heading level0 row19\" >19</th>\n",
              "      <td id=\"T_13dd0_row19_col0\" class=\"data row19 col0\" >Fold Generator</td>\n",
              "      <td id=\"T_13dd0_row19_col1\" class=\"data row19 col1\" >StratifiedKFold</td>\n",
              "    </tr>\n",
              "    <tr>\n",
              "      <th id=\"T_13dd0_level0_row20\" class=\"row_heading level0 row20\" >20</th>\n",
              "      <td id=\"T_13dd0_row20_col0\" class=\"data row20 col0\" >Fold Number</td>\n",
              "      <td id=\"T_13dd0_row20_col1\" class=\"data row20 col1\" >3</td>\n",
              "    </tr>\n",
              "    <tr>\n",
              "      <th id=\"T_13dd0_level0_row21\" class=\"row_heading level0 row21\" >21</th>\n",
              "      <td id=\"T_13dd0_row21_col0\" class=\"data row21 col0\" >CPU Jobs</td>\n",
              "      <td id=\"T_13dd0_row21_col1\" class=\"data row21 col1\" >-1</td>\n",
              "    </tr>\n",
              "    <tr>\n",
              "      <th id=\"T_13dd0_level0_row22\" class=\"row_heading level0 row22\" >22</th>\n",
              "      <td id=\"T_13dd0_row22_col0\" class=\"data row22 col0\" >Use GPU</td>\n",
              "      <td id=\"T_13dd0_row22_col1\" class=\"data row22 col1\" >True</td>\n",
              "    </tr>\n",
              "    <tr>\n",
              "      <th id=\"T_13dd0_level0_row23\" class=\"row_heading level0 row23\" >23</th>\n",
              "      <td id=\"T_13dd0_row23_col0\" class=\"data row23 col0\" >Log Experiment</td>\n",
              "      <td id=\"T_13dd0_row23_col1\" class=\"data row23 col1\" >False</td>\n",
              "    </tr>\n",
              "    <tr>\n",
              "      <th id=\"T_13dd0_level0_row24\" class=\"row_heading level0 row24\" >24</th>\n",
              "      <td id=\"T_13dd0_row24_col0\" class=\"data row24 col0\" >Experiment Name</td>\n",
              "      <td id=\"T_13dd0_row24_col1\" class=\"data row24 col1\" >clf-default-name</td>\n",
              "    </tr>\n",
              "    <tr>\n",
              "      <th id=\"T_13dd0_level0_row25\" class=\"row_heading level0 row25\" >25</th>\n",
              "      <td id=\"T_13dd0_row25_col0\" class=\"data row25 col0\" >USI</td>\n",
              "      <td id=\"T_13dd0_row25_col1\" class=\"data row25 col1\" >ebec</td>\n",
              "    </tr>\n",
              "  </tbody>\n",
              "</table>\n"
            ]
          },
          "metadata": {}
        }
      ]
    },
    {
      "cell_type": "markdown",
      "source": [
        "After a 5 hour run, we received intelligence on the performance of 14 different models. That's fantastic, however, we prefer that an economy of time be used when modeling. We have, thus, limited the number of models readers will see to only the most salient."
      ],
      "metadata": {
        "id": "maRV-yYsVQ7e"
      }
    },
    {
      "cell_type": "code",
      "source": [
        "best = compare_models()"
      ],
      "metadata": {
        "colab": {
          "base_uri": "https://localhost:8080/",
          "height": 488,
          "referenced_widgets": [
            "ee0fe9ae77af4a788804524bd2b7e488",
            "1b08f4003f104baebc46cd97f803f835",
            "49b7eecf3d0e4fed833776142c4effd8",
            "717fce3dcbca401a92325f09073e2950",
            "748c9cb099d34c0e804366d83cca080c",
            "ead5e4f181e74e3dbbead3bd27c10f65",
            "c99831f49ae34ab4a480fe0d0ceb70ee",
            "3f8cfe2dd6ca40b69b3b8f2641a77bf5",
            "1b09acb7f26a4848bd3ee35d3f5b1549",
            "fc98abedf506404ba204ae55f2a32b3c",
            "ccd7fdf0e3f54f079174e00ec2627b19"
          ]
        },
        "id": "mOobjHjlwS92",
        "outputId": "35b59775-3209-4089-f16b-73ca56324dfc"
      },
      "execution_count": null,
      "outputs": [
        {
          "output_type": "display_data",
          "data": {
            "text/plain": [
              "<IPython.core.display.HTML object>"
            ],
            "text/html": []
          },
          "metadata": {}
        },
        {
          "output_type": "display_data",
          "data": {
            "text/plain": [
              "<pandas.io.formats.style.Styler at 0x7fae1cfc0ca0>"
            ],
            "text/html": [
              "<style type=\"text/css\">\n",
              "#T_bf62e_ th {\n",
              "  text-align: left;\n",
              "}\n",
              "#T_bf62e_row0_col0, #T_bf62e_row0_col3, #T_bf62e_row0_col4, #T_bf62e_row1_col0, #T_bf62e_row1_col1, #T_bf62e_row1_col2, #T_bf62e_row1_col3, #T_bf62e_row1_col4, #T_bf62e_row1_col5, #T_bf62e_row1_col6, #T_bf62e_row1_col7, #T_bf62e_row2_col0, #T_bf62e_row2_col1, #T_bf62e_row2_col2, #T_bf62e_row2_col3, #T_bf62e_row2_col4, #T_bf62e_row2_col5, #T_bf62e_row2_col6, #T_bf62e_row2_col7, #T_bf62e_row3_col0, #T_bf62e_row3_col1, #T_bf62e_row3_col2, #T_bf62e_row3_col4, #T_bf62e_row3_col5, #T_bf62e_row3_col6, #T_bf62e_row3_col7, #T_bf62e_row4_col0, #T_bf62e_row4_col1, #T_bf62e_row4_col2, #T_bf62e_row4_col3, #T_bf62e_row4_col4, #T_bf62e_row4_col5, #T_bf62e_row4_col6, #T_bf62e_row4_col7, #T_bf62e_row5_col0, #T_bf62e_row5_col1, #T_bf62e_row5_col3, #T_bf62e_row5_col4, #T_bf62e_row5_col5, #T_bf62e_row5_col6, #T_bf62e_row5_col7, #T_bf62e_row6_col0, #T_bf62e_row6_col1, #T_bf62e_row6_col2, #T_bf62e_row6_col3, #T_bf62e_row6_col4, #T_bf62e_row6_col5, #T_bf62e_row6_col6, #T_bf62e_row6_col7, #T_bf62e_row7_col0, #T_bf62e_row7_col1, #T_bf62e_row7_col2, #T_bf62e_row7_col3, #T_bf62e_row7_col4, #T_bf62e_row7_col5, #T_bf62e_row7_col6, #T_bf62e_row7_col7, #T_bf62e_row8_col0, #T_bf62e_row8_col1, #T_bf62e_row8_col2, #T_bf62e_row8_col3, #T_bf62e_row8_col5, #T_bf62e_row8_col6, #T_bf62e_row8_col7, #T_bf62e_row9_col0, #T_bf62e_row9_col1, #T_bf62e_row9_col2, #T_bf62e_row9_col3, #T_bf62e_row9_col5, #T_bf62e_row9_col6, #T_bf62e_row9_col7, #T_bf62e_row10_col0, #T_bf62e_row10_col1, #T_bf62e_row10_col2, #T_bf62e_row10_col3, #T_bf62e_row10_col4, #T_bf62e_row10_col5, #T_bf62e_row10_col6, #T_bf62e_row10_col7, #T_bf62e_row11_col0, #T_bf62e_row11_col1, #T_bf62e_row11_col2, #T_bf62e_row11_col3, #T_bf62e_row11_col4, #T_bf62e_row11_col5, #T_bf62e_row11_col6, #T_bf62e_row11_col7, #T_bf62e_row12_col0, #T_bf62e_row12_col1, #T_bf62e_row12_col2, #T_bf62e_row12_col3, #T_bf62e_row12_col4, #T_bf62e_row12_col5, #T_bf62e_row12_col6, #T_bf62e_row12_col7, #T_bf62e_row13_col0, #T_bf62e_row13_col1, #T_bf62e_row13_col2, #T_bf62e_row13_col3, #T_bf62e_row13_col4, #T_bf62e_row13_col5, #T_bf62e_row13_col6, #T_bf62e_row13_col7 {\n",
              "  text-align: left;\n",
              "}\n",
              "#T_bf62e_row0_col1, #T_bf62e_row0_col2, #T_bf62e_row0_col5, #T_bf62e_row0_col6, #T_bf62e_row0_col7, #T_bf62e_row3_col3, #T_bf62e_row5_col2, #T_bf62e_row8_col4, #T_bf62e_row9_col4 {\n",
              "  text-align: left;\n",
              "  background-color: yellow;\n",
              "}\n",
              "#T_bf62e_row0_col8, #T_bf62e_row1_col8, #T_bf62e_row2_col8, #T_bf62e_row3_col8, #T_bf62e_row4_col8, #T_bf62e_row5_col8, #T_bf62e_row6_col8, #T_bf62e_row7_col8, #T_bf62e_row9_col8, #T_bf62e_row10_col8, #T_bf62e_row11_col8, #T_bf62e_row12_col8, #T_bf62e_row13_col8 {\n",
              "  text-align: left;\n",
              "  background-color: lightgrey;\n",
              "}\n",
              "#T_bf62e_row8_col8 {\n",
              "  text-align: left;\n",
              "  background-color: yellow;\n",
              "  background-color: lightgrey;\n",
              "}\n",
              "</style>\n",
              "<table id=\"T_bf62e_\" class=\"dataframe\">\n",
              "  <thead>\n",
              "    <tr>\n",
              "      <th class=\"blank level0\" >&nbsp;</th>\n",
              "      <th class=\"col_heading level0 col0\" >Model</th>\n",
              "      <th class=\"col_heading level0 col1\" >Accuracy</th>\n",
              "      <th class=\"col_heading level0 col2\" >AUC</th>\n",
              "      <th class=\"col_heading level0 col3\" >Recall</th>\n",
              "      <th class=\"col_heading level0 col4\" >Prec.</th>\n",
              "      <th class=\"col_heading level0 col5\" >F1</th>\n",
              "      <th class=\"col_heading level0 col6\" >Kappa</th>\n",
              "      <th class=\"col_heading level0 col7\" >MCC</th>\n",
              "      <th class=\"col_heading level0 col8\" >TT (Sec)</th>\n",
              "    </tr>\n",
              "  </thead>\n",
              "  <tbody>\n",
              "    <tr>\n",
              "      <th id=\"T_bf62e_level0_row0\" class=\"row_heading level0 row0\" >lightgbm</th>\n",
              "      <td id=\"T_bf62e_row0_col0\" class=\"data row0 col0\" >Light Gradient Boosting Machine</td>\n",
              "      <td id=\"T_bf62e_row0_col1\" class=\"data row0 col1\" >0.9876</td>\n",
              "      <td id=\"T_bf62e_row0_col2\" class=\"data row0 col2\" >0.9994</td>\n",
              "      <td id=\"T_bf62e_row0_col3\" class=\"data row0 col3\" >0.9757</td>\n",
              "      <td id=\"T_bf62e_row0_col4\" class=\"data row0 col4\" >0.9749</td>\n",
              "      <td id=\"T_bf62e_row0_col5\" class=\"data row0 col5\" >0.9753</td>\n",
              "      <td id=\"T_bf62e_row0_col6\" class=\"data row0 col6\" >0.9670</td>\n",
              "      <td id=\"T_bf62e_row0_col7\" class=\"data row0 col7\" >0.9670</td>\n",
              "      <td id=\"T_bf62e_row0_col8\" class=\"data row0 col8\" >16.6367</td>\n",
              "    </tr>\n",
              "    <tr>\n",
              "      <th id=\"T_bf62e_level0_row1\" class=\"row_heading level0 row1\" >lr</th>\n",
              "      <td id=\"T_bf62e_row1_col0\" class=\"data row1 col0\" >Logistic Regression</td>\n",
              "      <td id=\"T_bf62e_row1_col1\" class=\"data row1 col1\" >0.9872</td>\n",
              "      <td id=\"T_bf62e_row1_col2\" class=\"data row1 col2\" >0.9993</td>\n",
              "      <td id=\"T_bf62e_row1_col3\" class=\"data row1 col3\" >0.9752</td>\n",
              "      <td id=\"T_bf62e_row1_col4\" class=\"data row1 col4\" >0.9739</td>\n",
              "      <td id=\"T_bf62e_row1_col5\" class=\"data row1 col5\" >0.9745</td>\n",
              "      <td id=\"T_bf62e_row1_col6\" class=\"data row1 col6\" >0.9660</td>\n",
              "      <td id=\"T_bf62e_row1_col7\" class=\"data row1 col7\" >0.9660</td>\n",
              "      <td id=\"T_bf62e_row1_col8\" class=\"data row1 col8\" >226.8400</td>\n",
              "    </tr>\n",
              "    <tr>\n",
              "      <th id=\"T_bf62e_level0_row2\" class=\"row_heading level0 row2\" >rf</th>\n",
              "      <td id=\"T_bf62e_row2_col0\" class=\"data row2 col0\" >Random Forest Classifier</td>\n",
              "      <td id=\"T_bf62e_row2_col1\" class=\"data row2 col1\" >0.9872</td>\n",
              "      <td id=\"T_bf62e_row2_col2\" class=\"data row2 col2\" >0.9989</td>\n",
              "      <td id=\"T_bf62e_row2_col3\" class=\"data row2 col3\" >0.9760</td>\n",
              "      <td id=\"T_bf62e_row2_col4\" class=\"data row2 col4\" >0.9731</td>\n",
              "      <td id=\"T_bf62e_row2_col5\" class=\"data row2 col5\" >0.9746</td>\n",
              "      <td id=\"T_bf62e_row2_col6\" class=\"data row2 col6\" >0.9661</td>\n",
              "      <td id=\"T_bf62e_row2_col7\" class=\"data row2 col7\" >0.9661</td>\n",
              "      <td id=\"T_bf62e_row2_col8\" class=\"data row2 col8\" >95.2367</td>\n",
              "    </tr>\n",
              "    <tr>\n",
              "      <th id=\"T_bf62e_level0_row3\" class=\"row_heading level0 row3\" >gbc</th>\n",
              "      <td id=\"T_bf62e_row3_col0\" class=\"data row3 col0\" >Gradient Boosting Classifier</td>\n",
              "      <td id=\"T_bf62e_row3_col1\" class=\"data row3 col1\" >0.9867</td>\n",
              "      <td id=\"T_bf62e_row3_col2\" class=\"data row3 col2\" >0.9993</td>\n",
              "      <td id=\"T_bf62e_row3_col3\" class=\"data row3 col3\" >0.9769</td>\n",
              "      <td id=\"T_bf62e_row3_col4\" class=\"data row3 col4\" >0.9704</td>\n",
              "      <td id=\"T_bf62e_row3_col5\" class=\"data row3 col5\" >0.9736</td>\n",
              "      <td id=\"T_bf62e_row3_col6\" class=\"data row3 col6\" >0.9648</td>\n",
              "      <td id=\"T_bf62e_row3_col7\" class=\"data row3 col7\" >0.9648</td>\n",
              "      <td id=\"T_bf62e_row3_col8\" class=\"data row3 col8\" >2229.7067</td>\n",
              "    </tr>\n",
              "    <tr>\n",
              "      <th id=\"T_bf62e_level0_row4\" class=\"row_heading level0 row4\" >ada</th>\n",
              "      <td id=\"T_bf62e_row4_col0\" class=\"data row4 col0\" >Ada Boost Classifier</td>\n",
              "      <td id=\"T_bf62e_row4_col1\" class=\"data row4 col1\" >0.9859</td>\n",
              "      <td id=\"T_bf62e_row4_col2\" class=\"data row4 col2\" >0.9993</td>\n",
              "      <td id=\"T_bf62e_row4_col3\" class=\"data row4 col3\" >0.9729</td>\n",
              "      <td id=\"T_bf62e_row4_col4\" class=\"data row4 col4\" >0.9710</td>\n",
              "      <td id=\"T_bf62e_row4_col5\" class=\"data row4 col5\" >0.9720</td>\n",
              "      <td id=\"T_bf62e_row4_col6\" class=\"data row4 col6\" >0.9626</td>\n",
              "      <td id=\"T_bf62e_row4_col7\" class=\"data row4 col7\" >0.9626</td>\n",
              "      <td id=\"T_bf62e_row4_col8\" class=\"data row4 col8\" >482.2967</td>\n",
              "    </tr>\n",
              "    <tr>\n",
              "      <th id=\"T_bf62e_level0_row5\" class=\"row_heading level0 row5\" >et</th>\n",
              "      <td id=\"T_bf62e_row5_col0\" class=\"data row5 col0\" >Extra Trees Classifier</td>\n",
              "      <td id=\"T_bf62e_row5_col1\" class=\"data row5 col1\" >0.9851</td>\n",
              "      <td id=\"T_bf62e_row5_col2\" class=\"data row5 col2\" >0.9994</td>\n",
              "      <td id=\"T_bf62e_row5_col3\" class=\"data row5 col3\" >0.9481</td>\n",
              "      <td id=\"T_bf62e_row5_col4\" class=\"data row5 col4\" >0.9921</td>\n",
              "      <td id=\"T_bf62e_row5_col5\" class=\"data row5 col5\" >0.9696</td>\n",
              "      <td id=\"T_bf62e_row5_col6\" class=\"data row5 col6\" >0.9597</td>\n",
              "      <td id=\"T_bf62e_row5_col7\" class=\"data row5 col7\" >0.9602</td>\n",
              "      <td id=\"T_bf62e_row5_col8\" class=\"data row5 col8\" >31.1700</td>\n",
              "    </tr>\n",
              "    <tr>\n",
              "      <th id=\"T_bf62e_level0_row6\" class=\"row_heading level0 row6\" >svm</th>\n",
              "      <td id=\"T_bf62e_row6_col0\" class=\"data row6 col0\" >SVM - Linear Kernel</td>\n",
              "      <td id=\"T_bf62e_row6_col1\" class=\"data row6 col1\" >0.9848</td>\n",
              "      <td id=\"T_bf62e_row6_col2\" class=\"data row6 col2\" >0.0000</td>\n",
              "      <td id=\"T_bf62e_row6_col3\" class=\"data row6 col3\" >0.9717</td>\n",
              "      <td id=\"T_bf62e_row6_col4\" class=\"data row6 col4\" >0.9677</td>\n",
              "      <td id=\"T_bf62e_row6_col5\" class=\"data row6 col5\" >0.9697</td>\n",
              "      <td id=\"T_bf62e_row6_col6\" class=\"data row6 col6\" >0.9595</td>\n",
              "      <td id=\"T_bf62e_row6_col7\" class=\"data row6 col7\" >0.9595</td>\n",
              "      <td id=\"T_bf62e_row6_col8\" class=\"data row6 col8\" >12.1567</td>\n",
              "    </tr>\n",
              "    <tr>\n",
              "      <th id=\"T_bf62e_level0_row7\" class=\"row_heading level0 row7\" >dt</th>\n",
              "      <td id=\"T_bf62e_row7_col0\" class=\"data row7 col0\" >Decision Tree Classifier</td>\n",
              "      <td id=\"T_bf62e_row7_col1\" class=\"data row7 col1\" >0.9819</td>\n",
              "      <td id=\"T_bf62e_row7_col2\" class=\"data row7 col2\" >0.9764</td>\n",
              "      <td id=\"T_bf62e_row7_col3\" class=\"data row7 col3\" >0.9655</td>\n",
              "      <td id=\"T_bf62e_row7_col4\" class=\"data row7 col4\" >0.9625</td>\n",
              "      <td id=\"T_bf62e_row7_col5\" class=\"data row7 col5\" >0.9640</td>\n",
              "      <td id=\"T_bf62e_row7_col6\" class=\"data row7 col6\" >0.9519</td>\n",
              "      <td id=\"T_bf62e_row7_col7\" class=\"data row7 col7\" >0.9519</td>\n",
              "      <td id=\"T_bf62e_row7_col8\" class=\"data row7 col8\" >23.5867</td>\n",
              "    </tr>\n",
              "    <tr>\n",
              "      <th id=\"T_bf62e_level0_row8\" class=\"row_heading level0 row8\" >ridge</th>\n",
              "      <td id=\"T_bf62e_row8_col0\" class=\"data row8 col0\" >Ridge Classifier</td>\n",
              "      <td id=\"T_bf62e_row8_col1\" class=\"data row8 col1\" >0.9768</td>\n",
              "      <td id=\"T_bf62e_row8_col2\" class=\"data row8 col2\" >0.0000</td>\n",
              "      <td id=\"T_bf62e_row8_col3\" class=\"data row8 col3\" >0.9075</td>\n",
              "      <td id=\"T_bf62e_row8_col4\" class=\"data row8 col4\" >1.0000</td>\n",
              "      <td id=\"T_bf62e_row8_col5\" class=\"data row8 col5\" >0.9515</td>\n",
              "      <td id=\"T_bf62e_row8_col6\" class=\"data row8 col6\" >0.9363</td>\n",
              "      <td id=\"T_bf62e_row8_col7\" class=\"data row8 col7\" >0.9382</td>\n",
              "      <td id=\"T_bf62e_row8_col8\" class=\"data row8 col8\" >8.3867</td>\n",
              "    </tr>\n",
              "    <tr>\n",
              "      <th id=\"T_bf62e_level0_row9\" class=\"row_heading level0 row9\" >lda</th>\n",
              "      <td id=\"T_bf62e_row9_col0\" class=\"data row9 col0\" >Linear Discriminant Analysis</td>\n",
              "      <td id=\"T_bf62e_row9_col1\" class=\"data row9 col1\" >0.9768</td>\n",
              "      <td id=\"T_bf62e_row9_col2\" class=\"data row9 col2\" >0.9988</td>\n",
              "      <td id=\"T_bf62e_row9_col3\" class=\"data row9 col3\" >0.9075</td>\n",
              "      <td id=\"T_bf62e_row9_col4\" class=\"data row9 col4\" >1.0000</td>\n",
              "      <td id=\"T_bf62e_row9_col5\" class=\"data row9 col5\" >0.9515</td>\n",
              "      <td id=\"T_bf62e_row9_col6\" class=\"data row9 col6\" >0.9363</td>\n",
              "      <td id=\"T_bf62e_row9_col7\" class=\"data row9 col7\" >0.9382</td>\n",
              "      <td id=\"T_bf62e_row9_col8\" class=\"data row9 col8\" >20.3700</td>\n",
              "    </tr>\n",
              "    <tr>\n",
              "      <th id=\"T_bf62e_level0_row10\" class=\"row_heading level0 row10\" >qda</th>\n",
              "      <td id=\"T_bf62e_row10_col0\" class=\"data row10 col0\" >Quadratic Discriminant Analysis</td>\n",
              "      <td id=\"T_bf62e_row10_col1\" class=\"data row10 col1\" >0.9674</td>\n",
              "      <td id=\"T_bf62e_row10_col2\" class=\"data row10 col2\" >0.9869</td>\n",
              "      <td id=\"T_bf62e_row10_col3\" class=\"data row10 col3\" >0.9349</td>\n",
              "      <td id=\"T_bf62e_row10_col4\" class=\"data row10 col4\" >0.9351</td>\n",
              "      <td id=\"T_bf62e_row10_col5\" class=\"data row10 col5\" >0.9350</td>\n",
              "      <td id=\"T_bf62e_row10_col6\" class=\"data row10 col6\" >0.9132</td>\n",
              "      <td id=\"T_bf62e_row10_col7\" class=\"data row10 col7\" >0.9133</td>\n",
              "      <td id=\"T_bf62e_row10_col8\" class=\"data row10 col8\" >15.0967</td>\n",
              "    </tr>\n",
              "    <tr>\n",
              "      <th id=\"T_bf62e_level0_row11\" class=\"row_heading level0 row11\" >nb</th>\n",
              "      <td id=\"T_bf62e_row11_col0\" class=\"data row11 col0\" >Naive Bayes</td>\n",
              "      <td id=\"T_bf62e_row11_col1\" class=\"data row11 col1\" >0.9594</td>\n",
              "      <td id=\"T_bf62e_row11_col2\" class=\"data row11 col2\" >0.9817</td>\n",
              "      <td id=\"T_bf62e_row11_col3\" class=\"data row11 col3\" >0.9633</td>\n",
              "      <td id=\"T_bf62e_row11_col4\" class=\"data row11 col4\" >0.8851</td>\n",
              "      <td id=\"T_bf62e_row11_col5\" class=\"data row11 col5\" >0.9225</td>\n",
              "      <td id=\"T_bf62e_row11_col6\" class=\"data row11 col6\" >0.8951</td>\n",
              "      <td id=\"T_bf62e_row11_col7\" class=\"data row11 col7\" >0.8966</td>\n",
              "      <td id=\"T_bf62e_row11_col8\" class=\"data row11 col8\" >11.1667</td>\n",
              "    </tr>\n",
              "    <tr>\n",
              "      <th id=\"T_bf62e_level0_row12\" class=\"row_heading level0 row12\" >knn</th>\n",
              "      <td id=\"T_bf62e_row12_col0\" class=\"data row12 col0\" >K Neighbors Classifier</td>\n",
              "      <td id=\"T_bf62e_row12_col1\" class=\"data row12 col1\" >0.9243</td>\n",
              "      <td id=\"T_bf62e_row12_col2\" class=\"data row12 col2\" >0.9739</td>\n",
              "      <td id=\"T_bf62e_row12_col3\" class=\"data row12 col3\" >0.9491</td>\n",
              "      <td id=\"T_bf62e_row12_col4\" class=\"data row12 col4\" >0.7907</td>\n",
              "      <td id=\"T_bf62e_row12_col5\" class=\"data row12 col5\" >0.8627</td>\n",
              "      <td id=\"T_bf62e_row12_col6\" class=\"data row12 col6\" >0.8110</td>\n",
              "      <td id=\"T_bf62e_row12_col7\" class=\"data row12 col7\" >0.8174</td>\n",
              "      <td id=\"T_bf62e_row12_col8\" class=\"data row12 col8\" >4118.7333</td>\n",
              "    </tr>\n",
              "    <tr>\n",
              "      <th id=\"T_bf62e_level0_row13\" class=\"row_heading level0 row13\" >dummy</th>\n",
              "      <td id=\"T_bf62e_row13_col0\" class=\"data row13 col0\" >Dummy Classifier</td>\n",
              "      <td id=\"T_bf62e_row13_col1\" class=\"data row13 col1\" >0.7493</td>\n",
              "      <td id=\"T_bf62e_row13_col2\" class=\"data row13 col2\" >0.5000</td>\n",
              "      <td id=\"T_bf62e_row13_col3\" class=\"data row13 col3\" >0.0000</td>\n",
              "      <td id=\"T_bf62e_row13_col4\" class=\"data row13 col4\" >0.0000</td>\n",
              "      <td id=\"T_bf62e_row13_col5\" class=\"data row13 col5\" >0.0000</td>\n",
              "      <td id=\"T_bf62e_row13_col6\" class=\"data row13 col6\" >0.0000</td>\n",
              "      <td id=\"T_bf62e_row13_col7\" class=\"data row13 col7\" >0.0000</td>\n",
              "      <td id=\"T_bf62e_row13_col8\" class=\"data row13 col8\" >9.3733</td>\n",
              "    </tr>\n",
              "  </tbody>\n",
              "</table>\n"
            ]
          },
          "metadata": {}
        },
        {
          "output_type": "display_data",
          "data": {
            "text/plain": [
              "Processing:   0%|          | 0/61 [00:00<?, ?it/s]"
            ],
            "application/vnd.jupyter.widget-view+json": {
              "version_major": 2,
              "version_minor": 0,
              "model_id": "ee0fe9ae77af4a788804524bd2b7e488"
            }
          },
          "metadata": {
            "application/vnd.jupyter.widget-view+json": {
              "colab": {
                "custom_widget_manager": {
                  "url": "https://ssl.gstatic.com/colaboratory-static/widgets/colab-cdn-widget-manager/b3e629b1971e1542/manager.min.js"
                }
              }
            }
          }
        },
        {
          "output_type": "display_data",
          "data": {
            "text/plain": [
              "<IPython.core.display.HTML object>"
            ],
            "text/html": []
          },
          "metadata": {}
        }
      ]
    },
    {
      "cell_type": "code",
      "source": [
        "evaluate_model(best)"
      ],
      "metadata": {
        "colab": {
          "base_uri": "https://localhost:8080/",
          "height": 437,
          "referenced_widgets": [
            "876df7a34e36476c8a54f99cb3e368b0",
            "7d6dc07f565b4372948419948ffee13c",
            "a1c74ae98c944f5e8aa6bdad2ea7ed04",
            "8b96f3c8cb0b4e81a6417694f9c2b49b",
            "19b8d0a26a4e4201b218c4b06ce46bb5",
            "b8779a38c1d14fd2b28832ce3bca1fb9",
            "d6059dccbfcf4688a28ffebf7c454e1d"
          ]
        },
        "id": "56q57NIaFB6R",
        "outputId": "9dfb6f02-4d50-46b2-f3df-6362343e8d89"
      },
      "execution_count": null,
      "outputs": [
        {
          "output_type": "display_data",
          "data": {
            "text/plain": [
              "interactive(children=(ToggleButtons(description='Plot Type:', icons=('',), options=(('Pipeline Plot', 'pipelin…"
            ],
            "application/vnd.jupyter.widget-view+json": {
              "version_major": 2,
              "version_minor": 0,
              "model_id": "876df7a34e36476c8a54f99cb3e368b0"
            }
          },
          "metadata": {
            "application/vnd.jupyter.widget-view+json": {
              "colab": {
                "custom_widget_manager": {
                  "url": "https://ssl.gstatic.com/colaboratory-static/widgets/colab-cdn-widget-manager/b3e629b1971e1542/manager.min.js"
                }
              }
            }
          }
        }
      ]
    },
    {
      "cell_type": "code",
      "source": [
        "predictions = predict_model(best, data=test)"
      ],
      "metadata": {
        "colab": {
          "base_uri": "https://localhost:8080/",
          "height": 169
        },
        "id": "cEOqLFSqGSFy",
        "outputId": "749d14a2-8d4b-449f-b574-557654ad8695"
      },
      "execution_count": null,
      "outputs": [
        {
          "output_type": "error",
          "ename": "NameError",
          "evalue": "ignored",
          "traceback": [
            "\u001b[0;31m---------------------------------------------------------------------------\u001b[0m",
            "\u001b[0;31mNameError\u001b[0m                                 Traceback (most recent call last)",
            "\u001b[0;32m<ipython-input-1-f6156ccba2ff>\u001b[0m in \u001b[0;36m<module>\u001b[0;34m\u001b[0m\n\u001b[0;32m----> 1\u001b[0;31m \u001b[0mpredictions\u001b[0m \u001b[0;34m=\u001b[0m \u001b[0mpredict_model\u001b[0m\u001b[0;34m(\u001b[0m\u001b[0mbest\u001b[0m\u001b[0;34m,\u001b[0m \u001b[0mdata\u001b[0m\u001b[0;34m=\u001b[0m\u001b[0mtest\u001b[0m\u001b[0;34m)\u001b[0m\u001b[0;34m\u001b[0m\u001b[0;34m\u001b[0m\u001b[0m\n\u001b[0m",
            "\u001b[0;31mNameError\u001b[0m: name 'predict_model' is not defined"
          ]
        }
      ]
    }
  ]
}